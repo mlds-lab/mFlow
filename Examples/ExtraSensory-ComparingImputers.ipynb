{
 "cells": [
  {
   "cell_type": "markdown",
   "metadata": {},
   "source": [
    "# Comparing Imputers on the ExtraSensory data set"
   ]
  },
  {
   "cell_type": "markdown",
   "metadata": {},
   "source": [
    "## Set up the Notebook"
   ]
  },
  {
   "cell_type": "code",
   "execution_count": 1,
   "metadata": {},
   "outputs": [],
   "source": [
    "%load_ext autoreload\n",
    "%autoreload 2\n",
    "%matplotlib inline"
   ]
  },
  {
   "cell_type": "code",
   "execution_count": 2,
   "metadata": {},
   "outputs": [
    {
     "name": "stdout",
     "output_type": "stream",
     "text": [
      "mFlow module found\n"
     ]
    }
   ],
   "source": [
    "import importlib, sys, os\n",
    "sys.path.insert(0, os.path.abspath('..'))\n",
    "if(importlib.util.find_spec(\"mFlow\") is None):\n",
    "    !git clone https://github.com/mlds-lab/mFlow.git\n",
    "    !pip install ./mFlow\n",
    "else:\n",
    "    print(\"mFlow module found\")"
   ]
  },
  {
   "cell_type": "markdown",
   "metadata": {},
   "source": [
    "## Import modules"
   ]
  },
  {
   "cell_type": "code",
   "execution_count": 3,
   "metadata": {},
   "outputs": [],
   "source": [
    "from mFlow.Blocks.data_loader_extrasensory import extrasensory_data_loader\n",
    "from mFlow.Blocks.filter import MisingLabelFilter,  MisingDataColumnFilter, Take\n",
    "from mFlow.Blocks.imputer import Imputer\n",
    "from mFlow.Blocks.normalizer import Normalizer\n",
    "from mFlow.Blocks.experimental_protocol import ExpTrainTest, ExpCV, ExpWithin\n",
    "from mFlow.Blocks.results_analysis import ResultsConcat, ResultsCVSummarize, DataYieldReport\n",
    "\n",
    "from sklearn.metrics import accuracy_score, f1_score, precision_score, recall_score \n",
    "from sklearn.linear_model import LogisticRegression\n",
    "\n",
    "import matplotlib.pyplot as plt\n",
    "\n",
    "from mFlow.Workflow.workflow import workflow\n",
    "import mFlow.Workflow.compute_graph\n",
    "\n"
   ]
  },
  {
   "cell_type": "markdown",
   "metadata": {},
   "source": [
    "## Define the workflow\n",
    "\n",
    "This workflow uses a basic train/test experiment to compare two different imputation methods: zero imputation and mean imputation. The model used is logistic regression with a fixed regularization hyper-parameter. \n",
    "\n",
    "The workflow includes a column filter that screens out feature dimensions that are less than 20% observed, and a missing label filter that removes instances without labels. Next, the workflow performs imputation in each of two differnt ways. For each branch of the workflow, normalization is applied, followed by the the train/test experiment. Data loading and filtering is shared across the two branches of the workflow. The workflow computation graph is then created and displayed along with the results. \n",
    "\n",
    "In this experiment, we can see that the use of mean imputation results in more than a 10% performance improvement relative to zero imputation."
   ]
  },
  {
   "cell_type": "code",
   "execution_count": 5,
   "metadata": {
    "scrolled": false
   },
   "outputs": [
    {
     "data": {
      "image/png": "[encoded data removed]",
      "text/plain": [
       "<IPython.core.display.Image object>"
      ]
     },
     "metadata": {},
     "output_type": "display_data"
    }
   ],
   "source": [
    "imp_methods = [\"mean\", \"constant\"]\n",
    "metrics     = [accuracy_score, f1_score, precision_score, recall_score]\n",
    "\n",
    "df_raw      = extrasensory_data_loader(label=\"SLEEPING\");\n",
    "df_cf       = MisingDataColumnFilter(df_raw);\n",
    "df_lf       = MisingLabelFilter(df_cf);\n",
    "\n",
    "res=[]\n",
    "for i,m in enumerate(imp_methods):\n",
    "    df_imp = Imputer(df_lf, method=m)\n",
    "    df_norm = Normalizer(df_imp)\n",
    "    models = {\"LR(C=1e-4, %s)\"%m: LogisticRegression(solver=\"lbfgs\",max_iter=100)}\n",
    "    res.append(ExpTrainTest(df_norm, models, metrics=metrics));\n",
    "\n",
    "res_cat = ResultsConcat(*res)\n",
    "flow    = workflow({\"results\":res_cat})\n",
    " \n",
    "flow.draw(); plt.show();\n",
    "output=flow.run(backend=\"sequential\", monitor=True, from_scratch=True);"
   ]
  },
  {
   "cell_type": "code",
   "execution_count": 6,
   "metadata": {},
   "outputs": [
    {
     "data": {
      "text/html": [
       "<div>\n",
       "<style scoped>\n",
       "    .dataframe tbody tr th:only-of-type {\n",
       "        vertical-align: middle;\n",
       "    }\n",
       "\n",
       "    .dataframe tbody tr th {\n",
       "        vertical-align: top;\n",
       "    }\n",
       "\n",
       "    .dataframe thead th {\n",
       "        text-align: right;\n",
       "    }\n",
       "</style>\n",
       "<table border=\"1\" class=\"dataframe\">\n",
       "  <thead>\n",
       "    <tr style=\"text-align: right;\">\n",
       "      <th></th>\n",
       "      <th>accuracy_score</th>\n",
       "      <th>f1_score</th>\n",
       "      <th>precision_score</th>\n",
       "      <th>recall_score</th>\n",
       "    </tr>\n",
       "  </thead>\n",
       "  <tbody>\n",
       "    <tr>\n",
       "      <th>LR(C=1e-4, mean)</th>\n",
       "      <td>0.861992</td>\n",
       "      <td>0.715716</td>\n",
       "      <td>0.836194</td>\n",
       "      <td>0.625583</td>\n",
       "    </tr>\n",
       "    <tr>\n",
       "      <th>LR(C=1e-4, constant)</th>\n",
       "      <td>0.772334</td>\n",
       "      <td>0.544758</td>\n",
       "      <td>0.612494</td>\n",
       "      <td>0.490512</td>\n",
       "    </tr>\n",
       "  </tbody>\n",
       "</table>\n",
       "</div>"
      ],
      "text/plain": [
       "                      accuracy_score  f1_score  precision_score  recall_score\n",
       "LR(C=1e-4, mean)            0.861992  0.715716         0.836194      0.625583\n",
       "LR(C=1e-4, constant)        0.772334  0.544758         0.612494      0.490512"
      ]
     },
     "execution_count": 6,
     "metadata": {},
     "output_type": "execute_result"
    }
   ],
   "source": [
    "output[\"results\"][\"report\"]"
   ]
  },
  {
   "cell_type": "code",
   "execution_count": null,
   "metadata": {},
   "outputs": [],
   "source": []
  }
 ],
 "metadata": {
  "kernelspec": {
   "display_name": "Python 3",
   "language": "python",
   "name": "python3"
  },
  "language_info": {
   "codemirror_mode": {
    "name": "ipython",
    "version": 3
   },
   "file_extension": ".py",
   "mimetype": "text/x-python",
   "name": "python",
   "nbconvert_exporter": "python",
   "pygments_lexer": "ipython3",
   "version": "3.6.8"
  }
 },
 "nbformat": 4,
 "nbformat_minor": 2
}
