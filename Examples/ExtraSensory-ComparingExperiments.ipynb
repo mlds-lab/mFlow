{
 "cells": [
  {
   "cell_type": "markdown",
   "metadata": {},
   "source": [
    "# Comparing Experimental Protocols on the ExtraSensory data set"
   ]
  },
  {
   "cell_type": "markdown",
   "metadata": {},
   "source": [
    "## Set up the Notebook"
   ]
  },
  {
   "cell_type": "code",
   "execution_count": 1,
   "metadata": {},
   "outputs": [],
   "source": [
    "%load_ext autoreload\n",
    "%autoreload 2\n",
    "%matplotlib inline"
   ]
  },
  {
   "cell_type": "code",
   "execution_count": 2,
   "metadata": {},
   "outputs": [
    {
     "name": "stdout",
     "output_type": "stream",
     "text": [
      "mFlow module found\n"
     ]
    }
   ],
   "source": [
    "import importlib, sys, os\n",
    "sys.path.insert(0, os.path.abspath('..'))\n",
    "if(importlib.util.find_spec(\"mFlow\") is None):\n",
    "    !git clone https://github.com/mlds-lab/mFlow.git\n",
    "    !pip install ./mFlow\n",
    "else:\n",
    "    print(\"mFlow module found\")"
   ]
  },
  {
   "cell_type": "markdown",
   "metadata": {},
   "source": [
    "## Import modules"
   ]
  },
  {
   "cell_type": "code",
   "execution_count": 4,
   "metadata": {},
   "outputs": [],
   "source": [
    "from mFlow.Blocks.data_loader_extrasensory import extrasensory_data_loader\n",
    "from mFlow.Blocks.filter import MisingLabelFilter,  MisingDataColumnFilter, Take\n",
    "from mFlow.Blocks.imputer import Imputer\n",
    "from mFlow.Blocks.normalizer import Normalizer\n",
    "from mFlow.Blocks.experimental_protocol import ExpTrainTest, ExpCV, ExpWithin\n",
    "from mFlow.Blocks.results_analysis import ResultsConcat, ResultsCVSummarize, DataYieldReport\n",
    "\n",
    "from sklearn.metrics import accuracy_score, f1_score, precision_score, recall_score \n",
    "from sklearn.linear_model import LogisticRegression\n",
    "\n",
    "import matplotlib.pyplot as plt\n",
    "\n",
    "from mFlow.Workflow.workflow import workflow\n",
    "import mFlow.Workflow.compute_graph\n"
   ]
  },
  {
   "cell_type": "markdown",
   "metadata": {},
   "source": [
    "## Define the workflow\n",
    "\n",
    "This workflow compare the performance estimates produced using two different experimental variations: train/test splits at the instance and the  individual levels.  \n",
    "\n",
    "The model used is logistic regression with a fixed regularization hyper-parameter. The workflow includes a column filter that screens out feature dimensions that are less than 20% observed, a missing label filter that removes instances without labels, imputation, and feature normalization. Data pre-processing is shared across the two branches of the workflow.\n",
    "\n",
    "In this experiment, we can see that when the data set is split at the individual level, the accuracy is 5% lower and the F1 score is more than 10% lower when compared to splitting at the instance level. This shows that splitting at the instance level can significantly and artificially improve results due to the weaker form of generalization that this protocol assesses. "
   ]
  },
  {
   "cell_type": "code",
   "execution_count": 6,
   "metadata": {
    "scrolled": false
   },
   "outputs": [
    {
     "data": {
      "image/png": "[encoded data removed]",
      "text/plain": [
       "<IPython.core.display.Image object>"
      ]
     },
     "metadata": {},
     "output_type": "display_data"
    },
    {
     "name": "stdout",
     "output_type": "stream",
     "text": [
      "Running Sequential Scheduler\n",
      "\n",
      "Running step ES Data Loader\n",
      "  Loading Extrasensory pkl file...\n",
      "\n",
      "Running step Missing Data Column Filter\n",
      "\n",
      "Running step Missing Label Filter\n",
      "\n",
      "Running step Imputer\n",
      "\n",
      "Running step Normalizer\n",
      "\n",
      "Running step EXP-TT: Individual Split - LR(C=1e-4)\n",
      "\n",
      "Running step EXP-TT: Instance Split - LR(C=1e-4)\n",
      "\n",
      "Running step Results Concat\n",
      "\n",
      "Workflow complete\n",
      "\n"
     ]
    }
   ],
   "source": [
    "metrics     = [accuracy_score, f1_score, precision_score, recall_score]\n",
    "\n",
    "df_raw      = extrasensory_data_loader(label=\"SLEEPING\");\n",
    "df_cf       = MisingDataColumnFilter(df_raw);\n",
    "df_lf       = MisingLabelFilter(df_cf);\n",
    "df_imp      = Imputer(df_lf, method=\"mean\")\n",
    "df_norm     = Normalizer(df_imp)\n",
    "\n",
    "models = {\"Instance Split - LR(C=1e-4)\": LogisticRegression(solver=\"lbfgs\",max_iter=100)}\n",
    "res_inst = ExpTrainTest(df_norm, models, metrics=metrics, grouped=False);\n",
    "\n",
    "models = {\"Individual Split - LR(C=1e-4)\": LogisticRegression(solver=\"lbfgs\",max_iter=100)}\n",
    "res_ind = ExpTrainTest(df_norm, models, metrics=metrics, grouped=True);\n",
    "\n",
    "res_cat = ResultsConcat(res_inst, res_ind)\n",
    "flow    = workflow({\"results\":res_cat})\n",
    " \n",
    "flow.draw(); plt.show();\n",
    "output=flow.run();"
   ]
  },
  {
   "cell_type": "code",
   "execution_count": 7,
   "metadata": {},
   "outputs": [
    {
     "data": {
      "text/html": [
       "<div>\n",
       "<style scoped>\n",
       "    .dataframe tbody tr th:only-of-type {\n",
       "        vertical-align: middle;\n",
       "    }\n",
       "\n",
       "    .dataframe tbody tr th {\n",
       "        vertical-align: top;\n",
       "    }\n",
       "\n",
       "    .dataframe thead th {\n",
       "        text-align: right;\n",
       "    }\n",
       "</style>\n",
       "<table border=\"1\" class=\"dataframe\">\n",
       "  <thead>\n",
       "    <tr style=\"text-align: right;\">\n",
       "      <th></th>\n",
       "      <th>accuracy_score</th>\n",
       "      <th>f1_score</th>\n",
       "      <th>precision_score</th>\n",
       "      <th>recall_score</th>\n",
       "    </tr>\n",
       "  </thead>\n",
       "  <tbody>\n",
       "    <tr>\n",
       "      <th>Instance Split - LR(C=1e-4)</th>\n",
       "      <td>0.910366</td>\n",
       "      <td>0.842762</td>\n",
       "      <td>0.860434</td>\n",
       "      <td>0.825801</td>\n",
       "    </tr>\n",
       "    <tr>\n",
       "      <th>Individual Split - LR(C=1e-4)</th>\n",
       "      <td>0.863394</td>\n",
       "      <td>0.720270</td>\n",
       "      <td>0.834906</td>\n",
       "      <td>0.633314</td>\n",
       "    </tr>\n",
       "  </tbody>\n",
       "</table>\n",
       "</div>"
      ],
      "text/plain": [
       "                               accuracy_score  f1_score  precision_score  \\\n",
       "Instance Split - LR(C=1e-4)          0.910366  0.842762         0.860434   \n",
       "Individual Split - LR(C=1e-4)        0.863394  0.720270         0.834906   \n",
       "\n",
       "                               recall_score  \n",
       "Instance Split - LR(C=1e-4)        0.825801  \n",
       "Individual Split - LR(C=1e-4)      0.633314  "
      ]
     },
     "metadata": {},
     "output_type": "display_data"
    }
   ],
   "source": [
    "display(output[\"results\"][\"report\"])"
   ]
  },
  {
   "cell_type": "code",
   "execution_count": null,
   "metadata": {},
   "outputs": [],
   "source": []
  }
 ],
 "metadata": {
  "kernelspec": {
   "display_name": "Python 3",
   "language": "python",
   "name": "python3"
  },
  "language_info": {
   "codemirror_mode": {
    "name": "ipython",
    "version": 3
   },
   "file_extension": ".py",
   "mimetype": "text/x-python",
   "name": "python",
   "nbconvert_exporter": "python",
   "pygments_lexer": "ipython3",
   "version": "3.6.8"
  }
 },
 "nbformat": 4,
 "nbformat_minor": 2
}
