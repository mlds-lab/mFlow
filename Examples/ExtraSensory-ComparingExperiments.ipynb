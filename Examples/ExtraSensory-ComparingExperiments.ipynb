{
 "cells": [
  {
   "cell_type": "markdown",
   "metadata": {},
   "source": [
    "# Comparing Experimental Protocols on the ExtraSensory data set"
   ]
  },
  {
   "cell_type": "markdown",
   "metadata": {},
   "source": [
    "## Set up the Notebook"
   ]
  },
  {
   "cell_type": "code",
   "execution_count": 2,
   "metadata": {},
   "outputs": [],
   "source": [
    "%load_ext autoreload\n",
    "%autoreload 2\n",
    "%matplotlib inline\n",
    "\n",
    "import sys, os\n",
    "sys.path.insert(0, os.path.abspath('..'))\n",
    "os.chdir(os.path.abspath('..'))"
   ]
  },
  {
   "cell_type": "markdown",
   "metadata": {},
   "source": [
    "## Import modules"
   ]
  },
  {
   "cell_type": "code",
   "execution_count": 3,
   "metadata": {},
   "outputs": [],
   "source": [
    "from Blocks.data_loader import extrasensory_data_loader\n",
    "from Blocks.filter import MisingLabelFilter,  MisingDataColumnFilter, Take\n",
    "from Blocks.imputer import Imputer\n",
    "from Blocks.normalizer import Normalizer\n",
    "from Blocks.experimental_protocol import ExpTrainTest, ExpCV, ExpWithin\n",
    "from Blocks.results_analysis import ResultsConcat, ResultsCVSummarize, DataYieldReport\n",
    "\n",
    "from sklearn.metrics import accuracy_score, f1_score, precision_score, recall_score \n",
    "from sklearn.linear_model import LogisticRegression\n",
    "from sklearn.model_selection import GridSearchCV\n",
    "from sklearn import tree\n",
    "from sklearn.dummy import DummyClassifier\n",
    "\n",
    "import matplotlib.pyplot as plt\n",
    "\n",
    "from Workflow.workflow import workflow\n",
    "import Workflow.compute_graph\n",
    "import time\n",
    "import pandas as pd\n"
   ]
  },
  {
   "cell_type": "markdown",
   "metadata": {},
   "source": [
    "## Define the workflow\n",
    "\n",
    "This workflow compare the performance estimates produced using two different experimental variations: train/test splits at the instance and the  individual levels.  \n",
    "\n",
    "The model used is logistic regression with a fixed regularization hyper-parameter. The workflow includes a column filter that screens out feature dimensions that are less than 20% observed, a missing label filter that removes instances without labels, imputation, and feature normalization. Data pre-processing is shared across the two branches of the workflow.\n",
    "\n",
    "In this experiment, we can see that when the data set is split at the individual level, the accuracy is 5% lower and the F1 score is more than 10% lower when compared to splitting at the instance level. This shows that splitting at the instance level can significantly and artificially improve results due to the weaker form of generalization that this protocol assesses. "
   ]
  },
  {
   "cell_type": "code",
   "execution_count": 5,
   "metadata": {
    "scrolled": false
   },
   "outputs": [
    {
     "data": {
      "image/png": "[encoded data removed]",
      "text/plain": [
       "<Figure size 927.36x94.32 with 1 Axes>"
      ]
     },
     "metadata": {},
     "output_type": "display_data"
    },
    {
     "name": "stdout",
     "output_type": "stream",
     "text": [
      "Running step ES Data Loader\n",
      "  Loading Extrasensory pkl file...\n",
      "\n",
      "Running step Missing Data Column Filter\n",
      "\n",
      "Running step Missing Label Filter\n",
      "\n",
      "Running step Imputer\n",
      "  Imputer: Running on matrix of size 285268x224\n",
      "\n",
      "Running step Normalizer\n",
      "  Normalizer: running matrix of size 285268x224\n",
      "\n",
      "Running step EXP-TT: Individual Split - LR(C=1e-4)\n",
      "  Fitting and testing Individual Split - LR(C=1e-4)\n",
      "\n",
      "Running step EXP-TT: Instance Split - LR(C=1e-4)\n",
      "  Fitting and testing Instance Split - LR(C=1e-4)\n",
      "\n",
      "Running step Results Concat\n",
      "  Concatenating Results\n"
     ]
    },
    {
     "data": {
      "text/html": [
       "<div>\n",
       "<style scoped>\n",
       "    .dataframe tbody tr th:only-of-type {\n",
       "        vertical-align: middle;\n",
       "    }\n",
       "\n",
       "    .dataframe tbody tr th {\n",
       "        vertical-align: top;\n",
       "    }\n",
       "\n",
       "    .dataframe thead th {\n",
       "        text-align: right;\n",
       "    }\n",
       "</style>\n",
       "<table border=\"1\" class=\"dataframe\">\n",
       "  <thead>\n",
       "    <tr style=\"text-align: right;\">\n",
       "      <th></th>\n",
       "      <th>accuracy_score</th>\n",
       "      <th>f1_score</th>\n",
       "      <th>precision_score</th>\n",
       "      <th>recall_score</th>\n",
       "    </tr>\n",
       "  </thead>\n",
       "  <tbody>\n",
       "    <tr>\n",
       "      <th>Instance Split - LR(C=1e-4)</th>\n",
       "      <td>0.907824</td>\n",
       "      <td>0.838577</td>\n",
       "      <td>0.851143</td>\n",
       "      <td>0.826376</td>\n",
       "    </tr>\n",
       "    <tr>\n",
       "      <th>Individual Split - LR(C=1e-4)</th>\n",
       "      <td>0.861211</td>\n",
       "      <td>0.714755</td>\n",
       "      <td>0.832555</td>\n",
       "      <td>0.626158</td>\n",
       "    </tr>\n",
       "  </tbody>\n",
       "</table>\n",
       "</div>"
      ],
      "text/plain": [
       "                               accuracy_score  f1_score  precision_score  \\\n",
       "Instance Split - LR(C=1e-4)          0.907824  0.838577         0.851143   \n",
       "Individual Split - LR(C=1e-4)        0.861211  0.714755         0.832555   \n",
       "\n",
       "                               recall_score  \n",
       "Instance Split - LR(C=1e-4)        0.826376  \n",
       "Individual Split - LR(C=1e-4)      0.626158  "
      ]
     },
     "metadata": {},
     "output_type": "display_data"
    },
    {
     "name": "stdout",
     "output_type": "stream",
     "text": [
      "\n",
      "  Workflow complete\n",
      "\n"
     ]
    }
   ],
   "source": [
    "metrics     = [accuracy_score, f1_score, precision_score, recall_score]\n",
    "\n",
    "df_raw      = extrasensory_data_loader(label=\"SLEEPING\");\n",
    "df_cf       = MisingDataColumnFilter(df_raw);\n",
    "df_lf       = MisingLabelFilter(df_cf);\n",
    "df_imp      = Imputer(df_lf, method=\"mean\")\n",
    "df_norm     = Normalizer(df_imp)\n",
    "\n",
    "models = {\"Instance Split - LR(C=1e-4)\": LogisticRegression(solver=\"lbfgs\",max_iter=100)}\n",
    "res_inst = ExpTrainTest(df_norm, models, metrics=metrics, grouped=False);\n",
    "\n",
    "models = {\"Individual Split - LR(C=1e-4)\": LogisticRegression(solver=\"lbfgs\",max_iter=100)}\n",
    "res_ind = ExpTrainTest(df_norm, models, metrics=metrics, grouped=True);\n",
    "\n",
    "res_cat = ResultsConcat(res_inst, res_ind)\n",
    "flow    = workflow(res_cat)\n",
    " \n",
    "flow.draw(); plt.show();\n",
    "output=flow.run();"
   ]
  },
  {
   "cell_type": "code",
   "execution_count": null,
   "metadata": {},
   "outputs": [],
   "source": []
  }
 ],
 "metadata": {
  "kernelspec": {
   "display_name": "Python 3",
   "language": "python",
   "name": "python3"
  },
  "language_info": {
   "codemirror_mode": {
    "name": "ipython",
    "version": 3
   },
   "file_extension": ".py",
   "mimetype": "text/x-python",
   "name": "python",
   "nbconvert_exporter": "python",
   "pygments_lexer": "ipython3",
   "version": "3.6.8"
  }
 },
 "nbformat": 4,
 "nbformat_minor": 2
}
