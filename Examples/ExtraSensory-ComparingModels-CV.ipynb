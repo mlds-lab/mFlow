{
 "cells": [
  {
   "cell_type": "markdown",
   "metadata": {},
   "source": [
    "# Comparing Fixed vs Optimized Hyper-Parameters on  the ExtraSensory dataset\n",
    "using Cross-Validation\n"
   ]
  },
  {
   "cell_type": "markdown",
   "metadata": {},
   "source": [
    "## Set up the Notebook"
   ]
  },
  {
   "cell_type": "code",
   "execution_count": 1,
   "metadata": {},
   "outputs": [],
   "source": [
    "%load_ext autoreload\n",
    "%autoreload 2\n",
    "%matplotlib inline\n",
    "\n",
    "import sys, os\n",
    "sys.path.insert(0, os.path.abspath('..'))\n",
    "os.chdir(os.path.abspath('..'))"
   ]
  },
  {
   "cell_type": "markdown",
   "metadata": {},
   "source": [
    "## Import modules"
   ]
  },
  {
   "cell_type": "code",
   "execution_count": 2,
   "metadata": {},
   "outputs": [],
   "source": [
    "from Blocks.data_loader import extrasensory_data_loader\n",
    "from Blocks.filter import MisingLabelFilter,  MisingDataColumnFilter, Take\n",
    "from Blocks.imputer import Imputer\n",
    "from Blocks.normalizer import Normalizer\n",
    "from Blocks.experimental_protocol import ExpTrainTest, ExpCV, ExpWithin\n",
    "from Blocks.results_analysis import ResultsConcat, ResultsCVSummarize, DataYieldReport\n",
    "\n",
    "from sklearn.metrics import accuracy_score, f1_score, precision_score, recall_score \n",
    "from sklearn.linear_model import LogisticRegression\n",
    "from sklearn.model_selection import GridSearchCV\n",
    "from sklearn import tree\n",
    "from sklearn.dummy import DummyClassifier\n",
    "from sklearn.svm import SVC\n",
    "from sklearn.neighbors import KNeighborsClassifier\n",
    "from sklearn.model_selection import GridSearchCV\n",
    "\n",
    "import matplotlib.pyplot as plt\n",
    "\n",
    "from Workflow.workflow import workflow\n",
    "import Workflow.compute_graph\n",
    "import time\n",
    "import pandas as pd\n"
   ]
  },
  {
   "cell_type": "markdown",
   "metadata": {},
   "source": [
    "## Define the workflow\n",
    "\n",
    "This workflow uses a basic train/test experiment to compare the use of default hyper-parameters to optimized hyper-parameters for the same model. We use logistic regression and decision trees as the models. To optimize hyper-parameters, we wrap a base model with Scikit-Learn's grid search cross-validation wrapper to provied hyper-parameter selection via nested cross-validation. The experiment uses the first 50,000  instances in the ExtraSensory data set. \n",
    "\n",
    "The workflow includes a column filter that screens out feature dimensions that are less than 20% observed, a missing label filter that removes instances without labels, mean imputation, and normalization. Next, the workflow includes one branch performing a train/test experiment for each model. Pre-processing is shared across all branches of the workflow. \n",
    "\n",
    "In the results below, we can see that logisitic regression outperforms the decision tree by more than 30% when the default hyper-parameters are used. However, the default decision tree hyper-parameters are quite poor for this task. Both models show improved performance using optimized hyper-parameters, with the decision tree improving to nearly match the performance of logistic regression. "
   ]
  },
  {
   "cell_type": "code",
   "execution_count": 8,
   "metadata": {
    "scrolled": false
   },
   "outputs": [
    {
     "data": {
      "image/png": "[encoded data removed]",
      "text/plain": [
       "<Figure size 942.48x198 with 1 Axes>"
      ]
     },
     "metadata": {},
     "output_type": "display_data"
    },
    {
     "name": "stdout",
     "output_type": "stream",
     "text": [
      "Running step ES Data Loader\n",
      "  Loading Extrasensory pkl file...\n",
      "\n",
      "Running step Take\n",
      "\n",
      "Running step Missing Data Column Filter\n",
      "\n",
      "Running step Missing Label Filter\n",
      "\n",
      "Running step Imputer\n",
      "  Imputer: Running on matrix of size 37895x221\n",
      "\n",
      "Running step Normalizer\n",
      "  Normalizer: running matrix of size 37895x221\n",
      "\n",
      "Running step EXP-TT: Tree-CV\n",
      "  Fitting and testing Tree-CV\n",
      "Fitting 3 folds for each of 5 candidates, totalling 15 fits\n",
      "[CV] max_depth=2 .....................................................\n"
     ]
    },
    {
     "name": "stderr",
     "output_type": "stream",
     "text": [
      "[Parallel(n_jobs=1)]: Using backend SequentialBackend with 1 concurrent workers.\n"
     ]
    },
    {
     "name": "stdout",
     "output_type": "stream",
     "text": [
      "[CV] ...................................... max_depth=2, total=   0.5s\n",
      "[CV] max_depth=2 .....................................................\n"
     ]
    },
    {
     "name": "stderr",
     "output_type": "stream",
     "text": [
      "[Parallel(n_jobs=1)]: Done   1 out of   1 | elapsed:    0.6s remaining:    0.0s\n"
     ]
    },
    {
     "name": "stdout",
     "output_type": "stream",
     "text": [
      "[CV] ...................................... max_depth=2, total=   0.6s\n",
      "[CV] max_depth=2 .....................................................\n",
      "[CV] ...................................... max_depth=2, total=   0.7s\n",
      "[CV] max_depth=4 .....................................................\n",
      "[CV] ...................................... max_depth=4, total=   1.1s\n",
      "[CV] max_depth=4 .....................................................\n",
      "[CV] ...................................... max_depth=4, total=   1.0s\n",
      "[CV] max_depth=4 .....................................................\n",
      "[CV] ...................................... max_depth=4, total=   1.0s\n",
      "[CV] max_depth=6 .....................................................\n",
      "[CV] ...................................... max_depth=6, total=   1.3s\n",
      "[CV] max_depth=6 .....................................................\n",
      "[CV] ...................................... max_depth=6, total=   1.4s\n",
      "[CV] max_depth=6 .....................................................\n",
      "[CV] ...................................... max_depth=6, total=   1.4s\n",
      "[CV] max_depth=8 .....................................................\n",
      "[CV] ...................................... max_depth=8, total=   1.7s\n",
      "[CV] max_depth=8 .....................................................\n",
      "[CV] ...................................... max_depth=8, total=   2.0s\n",
      "[CV] max_depth=8 .....................................................\n",
      "[CV] ...................................... max_depth=8, total=   1.9s\n",
      "[CV] max_depth=10 ....................................................\n",
      "[CV] ..................................... max_depth=10, total=   2.1s\n",
      "[CV] max_depth=10 ....................................................\n",
      "[CV] ..................................... max_depth=10, total=   2.3s\n",
      "[CV] max_depth=10 ....................................................\n",
      "[CV] ..................................... max_depth=10, total=   2.3s\n"
     ]
    },
    {
     "name": "stderr",
     "output_type": "stream",
     "text": [
      "[Parallel(n_jobs=1)]: Done  15 out of  15 | elapsed:   21.4s finished\n"
     ]
    },
    {
     "name": "stdout",
     "output_type": "stream",
     "text": [
      "\n",
      "Running step EXP-TT: Tree-Default\n",
      "  Fitting and testing Tree-Default\n",
      "\n",
      "Running step EXP-TT: LR-CV\n",
      "  Fitting and testing LR-CV\n",
      "Fitting 3 folds for each of 5 candidates, totalling 15 fits\n",
      "[CV] C=0.01 ..........................................................\n"
     ]
    },
    {
     "name": "stderr",
     "output_type": "stream",
     "text": [
      "[Parallel(n_jobs=1)]: Using backend SequentialBackend with 1 concurrent workers.\n"
     ]
    },
    {
     "name": "stdout",
     "output_type": "stream",
     "text": [
      "[CV] ........................................... C=0.01, total=   3.1s\n",
      "[CV] C=0.01 ..........................................................\n"
     ]
    },
    {
     "name": "stderr",
     "output_type": "stream",
     "text": [
      "[Parallel(n_jobs=1)]: Done   1 out of   1 | elapsed:    3.2s remaining:    0.0s\n"
     ]
    },
    {
     "name": "stdout",
     "output_type": "stream",
     "text": [
      "[CV] ........................................... C=0.01, total=   1.9s\n",
      "[CV] C=0.01 ..........................................................\n",
      "[CV] ........................................... C=0.01, total=   3.1s\n",
      "[CV] C=0.1 ...........................................................\n",
      "[CV] ............................................ C=0.1, total=   3.4s\n",
      "[CV] C=0.1 ...........................................................\n",
      "[CV] ............................................ C=0.1, total=   3.2s\n",
      "[CV] C=0.1 ...........................................................\n",
      "[CV] ............................................ C=0.1, total=   3.1s\n",
      "[CV] C=1 .............................................................\n",
      "[CV] .............................................. C=1, total=   3.1s\n",
      "[CV] C=1 .............................................................\n",
      "[CV] .............................................. C=1, total=   3.2s\n",
      "[CV] C=1 .............................................................\n",
      "[CV] .............................................. C=1, total=   3.3s\n",
      "[CV] C=10 ............................................................\n",
      "[CV] ............................................. C=10, total=   3.5s\n",
      "[CV] C=10 ............................................................\n",
      "[CV] ............................................. C=10, total=   3.1s\n",
      "[CV] C=10 ............................................................\n",
      "[CV] ............................................. C=10, total=   3.3s\n",
      "[CV] C=100 ...........................................................\n",
      "[CV] ............................................ C=100, total=   3.5s\n",
      "[CV] C=100 ...........................................................\n",
      "[CV] ............................................ C=100, total=   3.2s\n",
      "[CV] C=100 ...........................................................\n",
      "[CV] ............................................ C=100, total=   3.3s\n"
     ]
    },
    {
     "name": "stderr",
     "output_type": "stream",
     "text": [
      "[Parallel(n_jobs=1)]: Done  15 out of  15 | elapsed:   47.7s finished\n"
     ]
    },
    {
     "name": "stdout",
     "output_type": "stream",
     "text": [
      "\n",
      "Running step EXP-TT: LR-Default\n",
      "  Fitting and testing LR-Default\n",
      "\n",
      "Running step Results Concat\n",
      "  Concatenating Results\n"
     ]
    },
    {
     "data": {
      "text/html": [
       "<div>\n",
       "<style scoped>\n",
       "    .dataframe tbody tr th:only-of-type {\n",
       "        vertical-align: middle;\n",
       "    }\n",
       "\n",
       "    .dataframe tbody tr th {\n",
       "        vertical-align: top;\n",
       "    }\n",
       "\n",
       "    .dataframe thead th {\n",
       "        text-align: right;\n",
       "    }\n",
       "</style>\n",
       "<table border=\"1\" class=\"dataframe\">\n",
       "  <thead>\n",
       "    <tr style=\"text-align: right;\">\n",
       "      <th></th>\n",
       "      <th>accuracy_score</th>\n",
       "      <th>f1_score</th>\n",
       "      <th>precision_score</th>\n",
       "      <th>recall_score</th>\n",
       "    </tr>\n",
       "  </thead>\n",
       "  <tbody>\n",
       "    <tr>\n",
       "      <th>LR-Default</th>\n",
       "      <td>0.851197</td>\n",
       "      <td>0.772084</td>\n",
       "      <td>0.776243</td>\n",
       "      <td>0.767969</td>\n",
       "    </tr>\n",
       "    <tr>\n",
       "      <th>LR-CV</th>\n",
       "      <td>0.853440</td>\n",
       "      <td>0.776471</td>\n",
       "      <td>0.777321</td>\n",
       "      <td>0.775622</td>\n",
       "    </tr>\n",
       "    <tr>\n",
       "      <th>Tree-Default</th>\n",
       "      <td>0.567943</td>\n",
       "      <td>0.184527</td>\n",
       "      <td>0.242438</td>\n",
       "      <td>0.148948</td>\n",
       "    </tr>\n",
       "    <tr>\n",
       "      <th>Tree-CV</th>\n",
       "      <td>0.822047</td>\n",
       "      <td>0.681745</td>\n",
       "      <td>0.825243</td>\n",
       "      <td>0.580760</td>\n",
       "    </tr>\n",
       "  </tbody>\n",
       "</table>\n",
       "</div>"
      ],
      "text/plain": [
       "              accuracy_score  f1_score  precision_score  recall_score\n",
       "LR-Default          0.851197  0.772084         0.776243      0.767969\n",
       "LR-CV               0.853440  0.776471         0.777321      0.775622\n",
       "Tree-Default        0.567943  0.184527         0.242438      0.148948\n",
       "Tree-CV             0.822047  0.681745         0.825243      0.580760"
      ]
     },
     "metadata": {},
     "output_type": "display_data"
    },
    {
     "name": "stdout",
     "output_type": "stream",
     "text": [
      "\n",
      "  Workflow complete\n",
      "\n"
     ]
    }
   ],
   "source": [
    "metrics     = [accuracy_score, f1_score, precision_score, recall_score]\n",
    "\n",
    "df_raw      = extrasensory_data_loader(label=\"SLEEPING\");\n",
    "df_raw      = Take(df_raw, 50000)\n",
    "df_cf       = MisingDataColumnFilter(df_raw);\n",
    "df_lf       = MisingLabelFilter(df_cf);\n",
    "df_imp      = Imputer(df_lf, method=\"mean\")\n",
    "df_norm     = Normalizer(df_imp)\n",
    "\n",
    "models = {\n",
    "              \"LR-Default\": LogisticRegression(solver=\"lbfgs\",max_iter=1000),\n",
    "              \"LR-CV\":      GridSearchCV(LogisticRegression(solver=\"lbfgs\",max_iter=1000), \n",
    "                                    cv=3, verbose=2, param_grid={\"C\":[1e-2,1e-1,1,10,100]}),\n",
    "              \"Tree-Default\":  tree.DecisionTreeClassifier(),\n",
    "              \"Tree-CV\":    GridSearchCV(tree.DecisionTreeClassifier(), \n",
    "                                     cv=3, verbose=2, param_grid={\"max_depth\":[2,4,6,8,10]})\n",
    "        }\n",
    "\n",
    "res     = ExpTrainTest(df_norm, models, metrics=metrics);\n",
    "res_cat = ResultsConcat(res)\n",
    "flow    = workflow(res_cat)\n",
    " \n",
    "flow.draw(); plt.show();\n",
    "output=flow.run();"
   ]
  },
  {
   "cell_type": "code",
   "execution_count": null,
   "metadata": {},
   "outputs": [],
   "source": []
  }
 ],
 "metadata": {
  "kernelspec": {
   "display_name": "Python 3",
   "language": "python",
   "name": "python3"
  },
  "language_info": {
   "codemirror_mode": {
    "name": "ipython",
    "version": 3
   },
   "file_extension": ".py",
   "mimetype": "text/x-python",
   "name": "python",
   "nbconvert_exporter": "python",
   "pygments_lexer": "ipython3",
   "version": "3.6.9"
  }
 },
 "nbformat": 4,
 "nbformat_minor": 2
}
