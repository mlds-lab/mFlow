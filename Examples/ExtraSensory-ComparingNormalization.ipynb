{
 "cells": [
  {
   "cell_type": "markdown",
   "metadata": {},
   "source": [
    "# Comparing Normalization on the ExtraSensory dataset"
   ]
  },
  {
   "cell_type": "markdown",
   "metadata": {},
   "source": [
    "## Set up the Notebook"
   ]
  },
  {
   "cell_type": "code",
   "execution_count": 2,
   "metadata": {},
   "outputs": [],
   "source": [
    "%load_ext autoreload\n",
    "%autoreload 2\n",
    "%matplotlib inline\n",
    "\n",
    "import sys, os\n",
    "sys.path.insert(0, os.path.abspath('..'))\n",
    "os.chdir(os.path.abspath('..'))"
   ]
  },
  {
   "cell_type": "markdown",
   "metadata": {},
   "source": [
    "## Import modules"
   ]
  },
  {
   "cell_type": "code",
   "execution_count": 3,
   "metadata": {},
   "outputs": [],
   "source": [
    "from Blocks.data_loader import extrasensory_data_loader\n",
    "from Blocks.filter import MisingLabelFilter,  MisingDataColumnFilter, Take\n",
    "from Blocks.imputer import Imputer\n",
    "from Blocks.normalizer import Normalizer\n",
    "from Blocks.experimental_protocol import ExpTrainTest, ExpCV, ExpWithin\n",
    "from Blocks.results_analysis import ResultsConcat, ResultsCVSummarize, DataYieldReport\n",
    "\n",
    "from sklearn.metrics import accuracy_score, f1_score, precision_score, recall_score \n",
    "from sklearn.linear_model import LogisticRegression\n",
    "from sklearn.model_selection import GridSearchCV\n",
    "from sklearn import tree\n",
    "from sklearn.dummy import DummyClassifier\n",
    "\n",
    "import matplotlib.pyplot as plt\n",
    "\n",
    "from Workflow.workflow import workflow\n",
    "import Workflow.compute_graph\n",
    "import time\n",
    "import pandas as pd\n"
   ]
  },
  {
   "cell_type": "markdown",
   "metadata": {},
   "source": []
  },
  {
   "cell_type": "markdown",
   "metadata": {},
   "source": [
    "## Define the workflow\n",
    "\n",
    "This workflow uses a basic train/test experiment to compare the use of feature normalization to  no feature normalization. The model used is logistic regression with a fixed regularization hyper-parameter. Linear models are not sensitive to feature scaling; however, when regularization is added, the regularizer is sensitive to feature scaling and different results will be obtained depending on whether and what type of normalization is applied.\n",
    "\n",
    "The workflow includes a column filter that screens out feature dimensions that are less than 20% observed, a missing label filter that removes instances without labels, and mean imputation. Next, the workflow includes two branches, one that performs normalization, and one that does not. Each branch then executes a train/test experiment. Data loading and filtering is shared across the two branches of the workflow. The workflow computation graph is then created and displayed along with the results. \n",
    "\n",
    "In this experiment, we can see that the use of normalization results in almost a 15% performance improvement relative to zero imputation."
   ]
  },
  {
   "cell_type": "code",
   "execution_count": 4,
   "metadata": {
    "scrolled": false
   },
   "outputs": [
    {
     "data": {
      "image/png": "[encoded data removed]",
      "text/plain": [
       "<Figure size 902.16x94.32 with 1 Axes>"
      ]
     },
     "metadata": {},
     "output_type": "display_data"
    },
    {
     "name": "stdout",
     "output_type": "stream",
     "text": [
      "Running step ES Data Loader\n",
      "  Loading Extrasensory pkl file...\n",
      "\n",
      "Running step Missing Data Column Filter\n",
      "\n",
      "Running step Missing Label Filter\n",
      "\n",
      "Running step Imputer\n",
      "  Imputer: Running on matrix of size 285268x224\n",
      "\n",
      "Running step Normalizer\n",
      "  Normalizer: running matrix of size 285268x224\n",
      "\n",
      "Running step EXP-TT: Norm - LR(C=1e-4)\n",
      "  Fitting and testing Norm - LR(C=1e-4)\n",
      "\n",
      "Running step EXP-TT: No Norm - LR(C=1e-4)\n",
      "  Fitting and testing No Norm - LR(C=1e-4)\n",
      "\n",
      "Running step Results Concat\n",
      "  Concatenating Results\n"
     ]
    },
    {
     "data": {
      "text/html": [
       "<div>\n",
       "<style scoped>\n",
       "    .dataframe tbody tr th:only-of-type {\n",
       "        vertical-align: middle;\n",
       "    }\n",
       "\n",
       "    .dataframe tbody tr th {\n",
       "        vertical-align: top;\n",
       "    }\n",
       "\n",
       "    .dataframe thead th {\n",
       "        text-align: right;\n",
       "    }\n",
       "</style>\n",
       "<table border=\"1\" class=\"dataframe\">\n",
       "  <thead>\n",
       "    <tr style=\"text-align: right;\">\n",
       "      <th></th>\n",
       "      <th>accuracy_score</th>\n",
       "      <th>f1_score</th>\n",
       "      <th>precision_score</th>\n",
       "      <th>recall_score</th>\n",
       "    </tr>\n",
       "  </thead>\n",
       "  <tbody>\n",
       "    <tr>\n",
       "      <th>No Norm - LR(C=1e-4)</th>\n",
       "      <td>0.722298</td>\n",
       "      <td>0.000000</td>\n",
       "      <td>0.000000</td>\n",
       "      <td>0.000000</td>\n",
       "    </tr>\n",
       "    <tr>\n",
       "      <th>Norm - LR(C=1e-4)</th>\n",
       "      <td>0.862613</td>\n",
       "      <td>0.717831</td>\n",
       "      <td>0.835369</td>\n",
       "      <td>0.629289</td>\n",
       "    </tr>\n",
       "  </tbody>\n",
       "</table>\n",
       "</div>"
      ],
      "text/plain": [
       "                      accuracy_score  f1_score  precision_score  recall_score\n",
       "No Norm - LR(C=1e-4)        0.722298  0.000000         0.000000      0.000000\n",
       "Norm - LR(C=1e-4)           0.862613  0.717831         0.835369      0.629289"
      ]
     },
     "metadata": {},
     "output_type": "display_data"
    },
    {
     "name": "stdout",
     "output_type": "stream",
     "text": [
      "\n",
      "  Workflow complete\n",
      "\n"
     ]
    }
   ],
   "source": [
    "metrics     = [accuracy_score, f1_score, precision_score, recall_score]\n",
    "\n",
    "df_raw      = extrasensory_data_loader(label=\"SLEEPING\");\n",
    "df_cf       = MisingDataColumnFilter(df_raw);\n",
    "df_lf       = MisingLabelFilter(df_cf);\n",
    "df_imp      = Imputer(df_lf, method=\"mean\")\n",
    "df_norm     = Normalizer(df_imp)\n",
    "\n",
    "models = {\"No Norm - LR(C=1e-4)\": LogisticRegression(solver=\"lbfgs\",max_iter=100)}\n",
    "res_no = ExpTrainTest(df_imp, models, metrics=metrics);\n",
    "\n",
    "models = {\"Norm - LR(C=1e-4)\": LogisticRegression(solver=\"lbfgs\",max_iter=100)}\n",
    "res_yes = ExpTrainTest(df_norm, models, metrics=metrics);\n",
    "\n",
    "res_cat = ResultsConcat(res_no, res_yes)\n",
    "flow    = workflow(res_cat)\n",
    " \n",
    "flow.draw(); plt.show();\n",
    "output=flow.run();"
   ]
  },
  {
   "cell_type": "code",
   "execution_count": null,
   "metadata": {},
   "outputs": [],
   "source": []
  }
 ],
 "metadata": {
  "kernelspec": {
   "display_name": "Python 3",
   "language": "python",
   "name": "python3"
  },
  "language_info": {
   "codemirror_mode": {
    "name": "ipython",
    "version": 3
   },
   "file_extension": ".py",
   "mimetype": "text/x-python",
   "name": "python",
   "nbconvert_exporter": "python",
   "pygments_lexer": "ipython3",
   "version": "3.6.8"
  }
 },
 "nbformat": 4,
 "nbformat_minor": 2
}
