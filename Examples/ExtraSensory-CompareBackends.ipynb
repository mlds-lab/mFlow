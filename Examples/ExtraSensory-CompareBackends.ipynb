{
 "cells": [
  {
   "cell_type": "markdown",
   "metadata": {},
   "source": [
    "# Basic Cross-Validation Experiment on the ExtraSensory data set with Backend Comparison"
   ]
  },
  {
   "cell_type": "markdown",
   "metadata": {},
   "source": [
    "## Set up the Notebook"
   ]
  },
  {
   "cell_type": "code",
   "execution_count": null,
   "metadata": {},
   "outputs": [],
   "source": [
    "%load_ext autoreload\n",
    "%autoreload 2\n",
    "%matplotlib inline\n",
    "\n",
    "import sys, os\n",
    "sys.path.insert(0, os.path.abspath('..'))\n",
    "os.chdir(os.path.abspath('..'))\n",
    "\n",
    "#Disable multi-threading in NumPy \n",
    "os.environ[\"MKL_NUM_THREADS\"] = \"1\" \n",
    "os.environ[\"NUMEXPR_NUM_THREADS\"] = \"1\" \n",
    "os.environ[\"OMP_NUM_THREADS\"] = \"1\""
   ]
  },
  {
   "cell_type": "markdown",
   "metadata": {},
   "source": [
    "## Import modules"
   ]
  },
  {
   "cell_type": "code",
   "execution_count": null,
   "metadata": {},
   "outputs": [],
   "source": [
    "from Blocks.data_loader import extrasensory_data_loader\n",
    "from Blocks.filter import MisingLabelFilter,  MisingDataColumnFilter, Take\n",
    "from Blocks.imputer import Imputer\n",
    "from Blocks.normalizer import Normalizer\n",
    "from Blocks.experimental_protocol import ExpTrainTest, ExpCV, ExpWithin\n",
    "from Blocks.results_analysis import ResultsConcat, ResultsCVSummarize, DataYieldReport\n",
    "\n",
    "from sklearn.metrics import accuracy_score, f1_score, precision_score, recall_score \n",
    "from sklearn.linear_model import LogisticRegression\n",
    "from sklearn.model_selection import GridSearchCV\n",
    "from sklearn import tree\n",
    "from sklearn.dummy import DummyClassifier\n",
    "\n",
    "import matplotlib.pyplot as plt\n",
    "\n",
    "from Workflow.workflow import workflow\n",
    "import Workflow.compute_graph\n",
    "import time\n",
    "import pandas as pd\n"
   ]
  },
  {
   "cell_type": "markdown",
   "metadata": {},
   "source": [
    "## Define the workflow\n",
    "\n",
    "This workflow performs a 5-fold cross-validation experiment on the ExtraSensory data set sleeping prediction task. The model used is logistic regression with a fixed regularization hyper-parameter. The workflow includes a column filter that screens out feature dimensions that are less than 20% observed, and a missing label filter that removes instances without labels. Next, the workflow performs mean imputation followed by feature normalization. Lastly, the cross-validation experiment is run on the pre-processed data set and results are evaluated using four metrics (accuracy, F1, precision and recall). The results from each fold are combined and then summarized.\n",
    "\n",
    "This demonstration compares the run time of three different workflow scheduler backends:  sequential, multithreaded, and multiprocess. "
   ]
  },
  {
   "cell_type": "code",
   "execution_count": null,
   "metadata": {
    "scrolled": false
   },
   "outputs": [],
   "source": [
    "estimators = {\"LR\": LogisticRegression(solver=\"lbfgs\",max_iter=100)}\n",
    "\n",
    "metrics   = [accuracy_score, f1_score, precision_score, recall_score]\n",
    "df_raw    = extrasensory_data_loader(label=\"SLEEPING\");\n",
    "df_cf     = MisingDataColumnFilter(df_raw);\n",
    "df_lf     = MisingLabelFilter(df_cf);\n",
    "df_imp    = Imputer(df_lf)\n",
    "df_norm   = Normalizer(df_imp);\n",
    "res_cv    = ExpCV(df_norm, estimators, metrics=metrics);\n",
    "res_cat   = ResultsConcat(res_cv)\n",
    "summary   = ResultsCVSummarize(res_cat)\n",
    "\n",
    "configs = {#\"sequential\":[1],\n",
    "           \"multithread\":[2,4],\n",
    "           #\"multiprocess\":[1,2,4]\n",
    "          }\n",
    "\n",
    "results={}\n",
    "for config in configs:\n",
    "    for workers in configs[config]:\n",
    "        \n",
    "        print(config, workers)\n",
    "        \n",
    "        flow=workflow([summary]); \n",
    "        start = time.time()\n",
    "        output=flow.run(backend=config, num_workers=workers, monitor=True, from_scratch=True);\n",
    "        results[config+\"(%d)\"%(workers)] = time.time()-start\n",
    "        print(config, workers, results[config+\"(%d)\"%(workers)])\n",
    "    \n"
   ]
  },
  {
   "cell_type": "code",
   "execution_count": null,
   "metadata": {},
   "outputs": [],
   "source": []
  }
 ],
 "metadata": {
  "kernelspec": {
   "display_name": "Python 3",
   "language": "python",
   "name": "python3"
  },
  "language_info": {
   "codemirror_mode": {
    "name": "ipython",
    "version": 3
   },
   "file_extension": ".py",
   "mimetype": "text/x-python",
   "name": "python",
   "nbconvert_exporter": "python",
   "pygments_lexer": "ipython3",
   "version": "3.6.8"
  }
 },
 "nbformat": 4,
 "nbformat_minor": 2
}
