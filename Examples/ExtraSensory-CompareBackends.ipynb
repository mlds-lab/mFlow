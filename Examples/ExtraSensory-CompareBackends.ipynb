{
 "cells": [
  {
   "cell_type": "markdown",
   "metadata": {},
   "source": [
    "# Basic Cross-Validation Experiment on the ExtraSensory data set with Backend Comparison"
   ]
  },
  {
   "cell_type": "markdown",
   "metadata": {},
   "source": [
    "## Set up the Notebook"
   ]
  },
  {
   "cell_type": "code",
   "execution_count": 1,
   "metadata": {},
   "outputs": [
    {
     "name": "stdout",
     "output_type": "stream",
     "text": [
      "MKL not available\n"
     ]
    }
   ],
   "source": [
    "%load_ext autoreload\n",
    "%autoreload 2\n",
    "%matplotlib inline\n",
    "\n",
    "#Attempt to disable multi-threading in NumPy \n",
    "import os\n",
    "os.environ[\"MKL_NUM_THREADS\"] = \"1\" \n",
    "os.environ[\"NUMEXPR_NUM_THREADS\"] = \"1\" \n",
    "os.environ[\"OMP_NUM_THREADS\"] = \"1\"\n",
    "os.environ[\"OPENBLAS_NUM_THREADS\"] = \"1\"\n",
    "try:\n",
    "    import mkl\n",
    "    mkl.set_num_threads(1)\n",
    "except:\n",
    "    print(\"MKL not available\")"
   ]
  },
  {
   "cell_type": "code",
   "execution_count": 2,
   "metadata": {},
   "outputs": [
    {
     "name": "stdout",
     "output_type": "stream",
     "text": [
      "mFlow module found\n"
     ]
    }
   ],
   "source": [
    "import importlib, sys, os\n",
    "sys.path.insert(0, os.path.abspath('..'))\n",
    "if(importlib.util.find_spec(\"mFlow\") is None):\n",
    "    !git clone https://github.com/mlds-lab/mFlow.git\n",
    "    !pip install ./mFlow\n",
    "else:\n",
    "    print(\"mFlow module found\")"
   ]
  },
  {
   "cell_type": "markdown",
   "metadata": {},
   "source": [
    "## Import modules"
   ]
  },
  {
   "cell_type": "code",
   "execution_count": 3,
   "metadata": {},
   "outputs": [],
   "source": [
    "from mFlow.Blocks.data_loader_extrasensory import extrasensory_data_loader\n",
    "from mFlow.Blocks.filter import MisingLabelFilter,  MisingDataColumnFilter, Take\n",
    "from mFlow.Blocks.imputer import Imputer\n",
    "from mFlow.Blocks.normalizer import Normalizer\n",
    "from mFlow.Blocks.experimental_protocol import ExpTrainTest, ExpCV, ExpWithin\n",
    "from mFlow.Blocks.results_analysis import ResultsConcat, ResultsCVSummarize, DataYieldReport\n",
    "from mFlow.Workflow.workflow import workflow\n",
    "\n",
    "from sklearn.metrics import accuracy_score, f1_score, precision_score, recall_score \n",
    "from sklearn.linear_model import LogisticRegression\n",
    "\n",
    "import time\n",
    "import pandas as pd"
   ]
  },
  {
   "cell_type": "markdown",
   "metadata": {},
   "source": [
    "## Define the workflow\n",
    "\n",
    "This workflow performs four train/test experiments on the ExtraSensory data set sleeping prediction task to illustrate the use of different scheduler back ends. The data are loaded once, followed by four parallel copies of the remaining workflow, which includes a column filter that screens out feature dimensions that are less than 20% observed, a missing label filter that removes instances without labels, mean imputation and feature normalization. \n",
    "\n",
    "The demonstration compares the run time of three different workflow scheduler backends:  sequential, multithreaded, and multiprocess. We run the parallel schedulers with 1, 2 and 4 workers. We note that due to communication overhead between the master and worker threads in the multi-process backend, and issues with Python's global interpreter lock in the multi-threaded backend, parallel speedups can be less than linear even for seemingly embarassingly parallel tasks. Parallel speedups also depend on the number of avilable cores. Also note that this demo requires an extended run time. "
   ]
  },
  {
   "cell_type": "code",
   "execution_count": null,
   "metadata": {
    "scrolled": false
   },
   "outputs": [
    {
     "data": {
      "image/png": "[encoded data removed]",
      "text/plain": [
       "<IPython.core.display.Image object>"
      ]
     },
     "metadata": {},
     "output_type": "display_data"
    }
   ],
   "source": [
    "estimators = {\"LR\": LogisticRegression(solver=\"lbfgs\",C=1,max_iter=100,verbose=10)}\n",
    "metrics    = [accuracy_score, f1_score, precision_score, recall_score]\n",
    "configs    = {\n",
    "             \"sequential\":[1],\n",
    "             #\"multithread\":[2],\n",
    "             #\"multiprocess\":[2],\n",
    "             #\"pipeline\":[1],\n",
    "             \"multiprocess_pipeline\":[2]\n",
    "           }\n",
    "\n",
    "res       = []\n",
    "df_raw    = extrasensory_data_loader(label=\"SLEEPING\");\n",
    "df_sub    = Take(df_raw, 50000)\n",
    "for i in range(2):\n",
    "    df_cf     = MisingDataColumnFilter(df_sub);\n",
    "    df_lf     = MisingLabelFilter(df_cf);\n",
    "    df_imp    = Imputer(df_lf)\n",
    "    df_norm   = Normalizer(df_imp);\n",
    "    res       += ExpTrainTest(df_norm, estimators, metrics=metrics);\n",
    "\n",
    "results={}\n",
    "for config in configs:\n",
    "    for workers in configs[config]:\n",
    "        \n",
    "        flow=workflow({\"Results0\":res[0],\"Results1\":res[1]} );        \n",
    "        start = time.time()\n",
    "        output=flow.run(backend=config, num_workers=workers, monitor=True, from_scratch=True);\n",
    "        results[config+\"(%d)\"%(workers)] = time.time()-start\n",
    "    \n",
    "time_df = pd.DataFrame(list(results.values()),columns=[\"Time(s)\"], index=list(results.keys()))\n",
    "display(time_df.plot(kind='bar', grid=True, title=\"Backend Runtime Comparison\"));"
   ]
  },
  {
   "cell_type": "code",
   "execution_count": null,
   "metadata": {},
   "outputs": [],
   "source": []
  }
 ],
 "metadata": {
  "kernelspec": {
   "display_name": "Python 3",
   "language": "python",
   "name": "python3"
  },
  "language_info": {
   "codemirror_mode": {
    "name": "ipython",
    "version": 3
   },
   "file_extension": ".py",
   "mimetype": "text/x-python",
   "name": "python",
   "nbconvert_exporter": "python",
   "pygments_lexer": "ipython3",
   "version": "3.6.8"
  }
 },
 "nbformat": 4,
 "nbformat_minor": 2
}
