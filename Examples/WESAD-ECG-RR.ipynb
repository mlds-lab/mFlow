{
 "cells": [
  {
   "cell_type": "markdown",
   "metadata": {},
   "source": [
    "# Cerebral Cortex ECG and RR Processing on the WESAD data set"
   ]
  },
  {
   "cell_type": "code",
   "execution_count": 1,
   "metadata": {},
   "outputs": [],
   "source": [
    "%load_ext autoreload\n",
    "%autoreload 2\n",
    "%matplotlib inline"
   ]
  },
  {
   "cell_type": "markdown",
   "metadata": {},
   "source": [
    "## Check notebook dependencies"
   ]
  },
  {
   "cell_type": "code",
   "execution_count": 2,
   "metadata": {},
   "outputs": [
    {
     "name": "stdout",
     "output_type": "stream",
     "text": [
      "mFlow found\n",
      "JAVA_HOME defined\n",
      "SPARK_HOME defined\n",
      "PYSPARK_PYTHON defined\n",
      "PYSPARK_DRIVER_PYTHON defined\n"
     ]
    }
   ],
   "source": [
    "import importlib, sys, os\n",
    "\n",
    "sys.path.insert(0, os.path.abspath('..'))\n",
    "IN_COLAB = 'google.colab' in sys.modules\n",
    "JAVA_HOME_DEFINED = \"JAVA_HOME\" in os.environ\n",
    "SPARK_HOME_DEFINED = \"SPARK_HOME\" in os.environ\n",
    "PYSPARK_PYTHON_DEFINED = \"PYSPARK_PYTHON\" in os.environ\n",
    "PYSPARK_DRIVER_PYTHON_DEFINED = \"PYSPARK_DRIVER_PYTHON\" in os.environ\n",
    "HAVE_MFLOW = importlib.util.find_spec(\"mFlow\") is not None\n",
    "\n",
    "if(not HAVE_MFLOW):\n",
    "    if IN_COLAB: \n",
    "        print(\"\\nGetting mFlow\")\n",
    "        !git clone https://github.com/mlds-lab/mFlow.git\n",
    "        !pip install ./mFlow\n",
    "    else:\n",
    "        raise SystemExit(\"Please install mFlow from https://github.com/mlds-lab/mFlow.git\")\n",
    "else:\n",
    "    print(\"mFlow found\")\n",
    "    \n",
    "if not JAVA_HOME_DEFINED:\n",
    "    if IN_COLAB: \n",
    "        print(\"\\nGetting Java 8 SDK\")\n",
    "        !sudo apt update\n",
    "        !apt-get install -y openjdk-8-jdk-headless graphviz\n",
    "        os.environ[\"JAVA_HOME\"] = \"/usr/lib/jvm/java-8-openjdk-amd64/\"\n",
    "    else:\n",
    "        raise SystemExit(\"Please install the Java8 SDK and set the JAVA_HOME environment variable\")\n",
    "else:\n",
    "    print(\"JAVA_HOME defined\")\n",
    "\n",
    "\n",
    "if not SPARK_HOME_DEFINED:\n",
    "    if IN_COLAB:\n",
    "        print(\"\\nGetting Apache Spark 3.1.2\")\n",
    "        !wget  https://mirrors.ocf.berkeley.edu/apache/spark/spark-3.1.2/spark-3.1.2-bin-hadoop2.7.tgz\n",
    "        !tar xf spark-3.1.2-bin-hadoop2.7.tgz\n",
    "        os.environ[\"SPARK_HOME\"] = \"/content/spark-3.1.2-bin-hadoop2.7/\"\n",
    "    else:\n",
    "        raise SystemExit(\"Please install spark-3.1.2-bin-hadoop2.7 and set the SPARK_HOME environment variable\")\n",
    "else:\n",
    "    print(\"SPARK_HOME defined\")\n",
    "\n",
    "\n",
    "if not PYSPARK_PYTHON_DEFINED:\n",
    "    if IN_COLAB:\n",
    "        os.environ[\"PYSPARK_PYTHON\"] = \"/usr/bin/python3\"\n",
    "    else:\n",
    "        raise SystemExit(\"Please set the PYSPARK_PYTHON environment variable to your desired Python version\")\n",
    "else:\n",
    "    print(\"PYSPARK_PYTHON defined\")\n",
    "            \n",
    "if not PYSPARK_DRIVER_PYTHON_DEFINED:\n",
    "    if IN_COLAB:\n",
    "        os.environ[\"PYSPARK_DRIVER_PYTHON\"] = \"/usr/bin/python3\"\n",
    "    else:\n",
    "        raise SystemExit(\"Please set the PYSPARK_DRIVER_PYTHON environment variable to your desired Python version\")\n",
    "else:\n",
    "    print(\"PYSPARK_DRIVER_PYTHON defined\")            \n",
    "    "
   ]
  },
  {
   "cell_type": "markdown",
   "metadata": {},
   "source": [
    "## Import library functions"
   ]
  },
  {
   "cell_type": "code",
   "execution_count": 3,
   "metadata": {},
   "outputs": [],
   "source": [
    "#Import mFlow Functions\n",
    "from mFlow.Blocks.data_loader_wesad import wesad_data_loader\n",
    "from mFlow.Blocks.ccwrapper import ccwrapper, cc_to_pandas\n",
    "from mFlow.Workflow.workflow import workflow\n",
    "\n",
    "#Import cc3 functions\n",
    "from cerebralcortex.kernel import Kernel\n",
    "from cerebralcortex.algorithms.ecg.autosense_data_quality import ecg_autosense_data_quality\n",
    "from cerebralcortex.algorithms.ecg.autosense_rr_interval import get_rr_interval\n",
    "from cerebralcortex.algorithms.ecg.hrv_features import get_hrv_features\n"
   ]
  },
  {
   "cell_type": "markdown",
   "metadata": {},
   "source": [
    "## Define and execute the workflow"
   ]
  },
  {
   "cell_type": "code",
   "execution_count": null,
   "metadata": {
    "scrolled": false
   },
   "outputs": [
    {
     "data": {
      "image/png": "[encoded data removed]",
      "text/plain": [
       "<IPython.core.display.Image object>"
      ]
     },
     "metadata": {},
     "output_type": "display_data"
    }
   ],
   "source": [
    "#Define data set properties\n",
    "Fs         = 700\n",
    "sensor     = \"respiban\"\n",
    "\n",
    "#Define Workflow\n",
    "dsd        = wesad_data_loader(data_size=\"all\")\n",
    "dfl        = cc_to_pandas(dsd,name=\"labels_to_pandas\",key=\"labels\",participant_field=\"user\",datetime_field=\"timestamp\",cache_filename=\"wesad_labels.pkl\")\n",
    "dsd        = ccwrapper(ecg_autosense_data_quality, dsd, sort_field=\"timestamp\", sensor_name=sensor, Fs=Fs)\n",
    "df_ecg     = cc_to_pandas(dsd,name=\"ecg_to_pandas\",participant_field=\"user\",datetime_field=\"timestamp\",cache_filename=\"wesad_ecg.pkl\")\n",
    "dsd        = ccwrapper(get_rr_interval,dsd, sort_field=\"timestamp\",Fs=Fs)\n",
    "df_rr      = cc_to_pandas(dsd,name=\"rr_to_pandas\",participant_field=\"user\",datetime_field=\"timestamp\",cache_filename=\"wesad_rr.pkl\")\n",
    "\n",
    "#Execute workflow\n",
    "flow       = workflow({\"ecg\":df_ecg,\"rr\":df_rr,\"labels\":dfl});\n",
    "output     = flow.run(backend=\"sequential\", monitor=True, from_scratch=True);\n"
   ]
  },
  {
   "cell_type": "markdown",
   "metadata": {},
   "source": [
    "## Display the experimental results"
   ]
  },
  {
   "cell_type": "code",
   "execution_count": 17,
   "metadata": {},
   "outputs": [
    {
     "data": {
      "text/html": [
       "<div>\n",
       "<style scoped>\n",
       "    .dataframe tbody tr th:only-of-type {\n",
       "        vertical-align: middle;\n",
       "    }\n",
       "\n",
       "    .dataframe tbody tr th {\n",
       "        vertical-align: top;\n",
       "    }\n",
       "\n",
       "    .dataframe thead th {\n",
       "        text-align: right;\n",
       "    }\n",
       "</style>\n",
       "<table border=\"1\" class=\"dataframe\">\n",
       "  <thead>\n",
       "    <tr style=\"text-align: right;\">\n",
       "      <th></th>\n",
       "      <th>accuracy_score</th>\n",
       "      <th>f1_score</th>\n",
       "      <th>precision_score</th>\n",
       "      <th>recall_score</th>\n",
       "    </tr>\n",
       "  </thead>\n",
       "  <tbody>\n",
       "    <tr>\n",
       "      <th>Majority</th>\n",
       "      <td>0.786585</td>\n",
       "      <td>0.000000</td>\n",
       "      <td>0.000000</td>\n",
       "      <td>0.000000</td>\n",
       "    </tr>\n",
       "    <tr>\n",
       "      <th>LR-CV</th>\n",
       "      <td>0.878049</td>\n",
       "      <td>0.600000</td>\n",
       "      <td>1.000000</td>\n",
       "      <td>0.428571</td>\n",
       "    </tr>\n",
       "    <tr>\n",
       "      <th>Tree(D=5)</th>\n",
       "      <td>0.859756</td>\n",
       "      <td>0.622951</td>\n",
       "      <td>0.730769</td>\n",
       "      <td>0.542857</td>\n",
       "    </tr>\n",
       "    <tr>\n",
       "      <th>SVM(C=1)</th>\n",
       "      <td>0.890244</td>\n",
       "      <td>0.653846</td>\n",
       "      <td>1.000000</td>\n",
       "      <td>0.485714</td>\n",
       "    </tr>\n",
       "  </tbody>\n",
       "</table>\n",
       "</div>"
      ],
      "text/plain": [
       "           accuracy_score  f1_score  precision_score  recall_score\n",
       "Majority         0.786585  0.000000         0.000000      0.000000\n",
       "LR-CV            0.878049  0.600000         1.000000      0.428571\n",
       "Tree(D=5)        0.859756  0.622951         0.730769      0.542857\n",
       "SVM(C=1)         0.890244  0.653846         1.000000      0.485714"
      ]
     },
     "metadata": {},
     "output_type": "display_data"
    }
   ],
   "source": [
    "display(output[\"results\"][\"report\"])"
   ]
  },
  {
   "cell_type": "markdown",
   "metadata": {},
   "source": [
    "## Display the data yield analysis"
   ]
  },
  {
   "cell_type": "code",
   "execution_count": 15,
   "metadata": {},
   "outputs": [
    {
     "data": {
      "text/html": [
       "<div>\n",
       "<style scoped>\n",
       "    .dataframe tbody tr th:only-of-type {\n",
       "        vertical-align: middle;\n",
       "    }\n",
       "\n",
       "    .dataframe tbody tr th {\n",
       "        vertical-align: top;\n",
       "    }\n",
       "\n",
       "    .dataframe thead th {\n",
       "        text-align: right;\n",
       "    }\n",
       "</style>\n",
       "<table border=\"1\" class=\"dataframe\">\n",
       "  <thead>\n",
       "    <tr style=\"text-align: right;\">\n",
       "      <th></th>\n",
       "      <th>#Individuals</th>\n",
       "      <th>#Individuals with Data</th>\n",
       "      <th>#Instances</th>\n",
       "      <th>#Labeled Instances</th>\n",
       "      <th>%Labeled Instances</th>\n",
       "      <th>#Features</th>\n",
       "      <th>#Observed Feature Values</th>\n",
       "      <th>%Observed Feature Values</th>\n",
       "    </tr>\n",
       "  </thead>\n",
       "  <tbody>\n",
       "    <tr>\n",
       "      <th>WESAD All</th>\n",
       "      <td>15</td>\n",
       "      <td>15</td>\n",
       "      <td>826</td>\n",
       "      <td>826</td>\n",
       "      <td>100.0</td>\n",
       "      <td>11</td>\n",
       "      <td>9086</td>\n",
       "      <td>100.0</td>\n",
       "    </tr>\n",
       "  </tbody>\n",
       "</table>\n",
       "</div>"
      ],
      "text/plain": [
       "           #Individuals  #Individuals with Data  #Instances  \\\n",
       "WESAD All            15                      15         826   \n",
       "\n",
       "           #Labeled Instances  %Labeled Instances  #Features  \\\n",
       "WESAD All                 826               100.0         11   \n",
       "\n",
       "           #Observed Feature Values  %Observed Feature Values  \n",
       "WESAD All                      9086                     100.0  "
      ]
     },
     "metadata": {},
     "output_type": "display_data"
    }
   ],
   "source": [
    "display(output['yield'][\"report\"])"
   ]
  },
  {
   "cell_type": "markdown",
   "metadata": {},
   "source": [
    "## Display the dataset"
   ]
  },
  {
   "cell_type": "code",
   "execution_count": 16,
   "metadata": {
    "scrolled": false
   },
   "outputs": [
    {
     "data": {
      "text/html": [
       "<div>\n",
       "<style scoped>\n",
       "    .dataframe tbody tr th:only-of-type {\n",
       "        vertical-align: middle;\n",
       "    }\n",
       "\n",
       "    .dataframe tbody tr th {\n",
       "        vertical-align: top;\n",
       "    }\n",
       "\n",
       "    .dataframe thead th {\n",
       "        text-align: right;\n",
       "    }\n",
       "</style>\n",
       "<table border=\"1\" class=\"dataframe\">\n",
       "  <thead>\n",
       "    <tr style=\"text-align: right;\">\n",
       "      <th></th>\n",
       "      <th>hf</th>\n",
       "      <th>median</th>\n",
       "      <th>iqr</th>\n",
       "      <th>mean</th>\n",
       "      <th>heartrate</th>\n",
       "      <th>80th</th>\n",
       "      <th>20th</th>\n",
       "      <th>lf</th>\n",
       "      <th>vlf</th>\n",
       "      <th>lfhf</th>\n",
       "      <th>var</th>\n",
       "      <th>target</th>\n",
       "    </tr>\n",
       "  </thead>\n",
       "  <tbody>\n",
       "    <tr>\n",
       "      <th>count</th>\n",
       "      <td>826.000000</td>\n",
       "      <td>826.000000</td>\n",
       "      <td>826.000000</td>\n",
       "      <td>826.000000</td>\n",
       "      <td>826.000000</td>\n",
       "      <td>826.000000</td>\n",
       "      <td>826.000000</td>\n",
       "      <td>826.000000</td>\n",
       "      <td>826.000000</td>\n",
       "      <td>826.000000</td>\n",
       "      <td>826.000000</td>\n",
       "      <td>826.000000</td>\n",
       "    </tr>\n",
       "    <tr>\n",
       "      <th>mean</th>\n",
       "      <td>-0.063501</td>\n",
       "      <td>0.009630</td>\n",
       "      <td>0.200581</td>\n",
       "      <td>-0.011564</td>\n",
       "      <td>0.169399</td>\n",
       "      <td>-0.023028</td>\n",
       "      <td>0.009332</td>\n",
       "      <td>-0.028304</td>\n",
       "      <td>0.151666</td>\n",
       "      <td>0.166034</td>\n",
       "      <td>0.292850</td>\n",
       "      <td>0.219128</td>\n",
       "    </tr>\n",
       "    <tr>\n",
       "      <th>std</th>\n",
       "      <td>0.652313</td>\n",
       "      <td>0.824949</td>\n",
       "      <td>0.918948</td>\n",
       "      <td>0.831679</td>\n",
       "      <td>0.975955</td>\n",
       "      <td>0.871646</td>\n",
       "      <td>0.794589</td>\n",
       "      <td>0.636274</td>\n",
       "      <td>0.624108</td>\n",
       "      <td>0.770858</td>\n",
       "      <td>1.039018</td>\n",
       "      <td>0.413906</td>\n",
       "    </tr>\n",
       "    <tr>\n",
       "      <th>min</th>\n",
       "      <td>-1.865354</td>\n",
       "      <td>-2.013441</td>\n",
       "      <td>-1.373961</td>\n",
       "      <td>-2.101279</td>\n",
       "      <td>-1.555548</td>\n",
       "      <td>-2.205813</td>\n",
       "      <td>-1.909198</td>\n",
       "      <td>-1.426320</td>\n",
       "      <td>-0.529125</td>\n",
       "      <td>-0.880678</td>\n",
       "      <td>-0.825620</td>\n",
       "      <td>0.000000</td>\n",
       "    </tr>\n",
       "    <tr>\n",
       "      <th>25%</th>\n",
       "      <td>-0.497961</td>\n",
       "      <td>-0.480306</td>\n",
       "      <td>-0.414120</td>\n",
       "      <td>-0.503111</td>\n",
       "      <td>-0.490294</td>\n",
       "      <td>-0.536540</td>\n",
       "      <td>-0.471782</td>\n",
       "      <td>-0.519980</td>\n",
       "      <td>-0.419098</td>\n",
       "      <td>-0.412712</td>\n",
       "      <td>-0.363205</td>\n",
       "      <td>0.000000</td>\n",
       "    </tr>\n",
       "    <tr>\n",
       "      <th>50%</th>\n",
       "      <td>0.022083</td>\n",
       "      <td>0.005767</td>\n",
       "      <td>-0.027696</td>\n",
       "      <td>0.006911</td>\n",
       "      <td>-0.005733</td>\n",
       "      <td>0.003729</td>\n",
       "      <td>0.021215</td>\n",
       "      <td>-0.022431</td>\n",
       "      <td>-0.021361</td>\n",
       "      <td>-0.021254</td>\n",
       "      <td>-0.042000</td>\n",
       "      <td>0.000000</td>\n",
       "    </tr>\n",
       "    <tr>\n",
       "      <th>75%</th>\n",
       "      <td>0.460691</td>\n",
       "      <td>0.556197</td>\n",
       "      <td>0.574795</td>\n",
       "      <td>0.518320</td>\n",
       "      <td>0.538411</td>\n",
       "      <td>0.510815</td>\n",
       "      <td>0.492153</td>\n",
       "      <td>0.452399</td>\n",
       "      <td>0.567214</td>\n",
       "      <td>0.532512</td>\n",
       "      <td>0.600167</td>\n",
       "      <td>0.000000</td>\n",
       "    </tr>\n",
       "    <tr>\n",
       "      <th>max</th>\n",
       "      <td>1.066645</td>\n",
       "      <td>2.455328</td>\n",
       "      <td>4.587269</td>\n",
       "      <td>2.299406</td>\n",
       "      <td>3.773092</td>\n",
       "      <td>2.495151</td>\n",
       "      <td>2.175642</td>\n",
       "      <td>1.324598</td>\n",
       "      <td>2.235011</td>\n",
       "      <td>3.618772</td>\n",
       "      <td>7.191980</td>\n",
       "      <td>1.000000</td>\n",
       "    </tr>\n",
       "  </tbody>\n",
       "</table>\n",
       "</div>"
      ],
      "text/plain": [
       "               hf      median         iqr        mean   heartrate        80th  \\\n",
       "count  826.000000  826.000000  826.000000  826.000000  826.000000  826.000000   \n",
       "mean    -0.063501    0.009630    0.200581   -0.011564    0.169399   -0.023028   \n",
       "std      0.652313    0.824949    0.918948    0.831679    0.975955    0.871646   \n",
       "min     -1.865354   -2.013441   -1.373961   -2.101279   -1.555548   -2.205813   \n",
       "25%     -0.497961   -0.480306   -0.414120   -0.503111   -0.490294   -0.536540   \n",
       "50%      0.022083    0.005767   -0.027696    0.006911   -0.005733    0.003729   \n",
       "75%      0.460691    0.556197    0.574795    0.518320    0.538411    0.510815   \n",
       "max      1.066645    2.455328    4.587269    2.299406    3.773092    2.495151   \n",
       "\n",
       "             20th          lf         vlf        lfhf         var      target  \n",
       "count  826.000000  826.000000  826.000000  826.000000  826.000000  826.000000  \n",
       "mean     0.009332   -0.028304    0.151666    0.166034    0.292850    0.219128  \n",
       "std      0.794589    0.636274    0.624108    0.770858    1.039018    0.413906  \n",
       "min     -1.909198   -1.426320   -0.529125   -0.880678   -0.825620    0.000000  \n",
       "25%     -0.471782   -0.519980   -0.419098   -0.412712   -0.363205    0.000000  \n",
       "50%      0.021215   -0.022431   -0.021361   -0.021254   -0.042000    0.000000  \n",
       "75%      0.492153    0.452399    0.567214    0.532512    0.600167    0.000000  \n",
       "max      2.175642    1.324598    2.235011    3.618772    7.191980    1.000000  "
      ]
     },
     "execution_count": 16,
     "metadata": {},
     "output_type": "execute_result"
    }
   ],
   "source": [
    "output[\"data\"][\"dataframe\"].describe()"
   ]
  }
 ],
 "metadata": {
  "kernelspec": {
   "display_name": "Python 3",
   "language": "python",
   "name": "python3"
  },
  "language_info": {
   "codemirror_mode": {
    "name": "ipython",
    "version": 3
   },
   "file_extension": ".py",
   "mimetype": "text/x-python",
   "name": "python",
   "nbconvert_exporter": "python",
   "pygments_lexer": "ipython3",
   "version": "3.6.8"
  }
 },
 "nbformat": 4,
 "nbformat_minor": 2
}
