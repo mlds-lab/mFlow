{
 "cells": [
  {
   "cell_type": "markdown",
   "metadata": {},
   "source": [
    "# Cerebral Cortex ECG and RR Processing on the WESAD data set"
   ]
  },
  {
   "cell_type": "code",
   "execution_count": 1,
   "metadata": {},
   "outputs": [],
   "source": [
    "%load_ext autoreload\n",
    "%autoreload 2\n",
    "%matplotlib inline"
   ]
  },
  {
   "cell_type": "markdown",
   "metadata": {},
   "source": [
    "## Check notebook dependencies"
   ]
  },
  {
   "cell_type": "code",
   "execution_count": 2,
   "metadata": {},
   "outputs": [
    {
     "name": "stdout",
     "output_type": "stream",
     "text": [
      "mFlow found\n",
      "JAVA_HOME defined\n",
      "SPARK_HOME defined\n",
      "PYSPARK_PYTHON defined\n",
      "PYSPARK_DRIVER_PYTHON defined\n"
     ]
    }
   ],
   "source": [
    "import importlib, sys, os\n",
    "\n",
    "sys.path.insert(0, os.path.abspath('..'))\n",
    "IN_COLAB = 'google.colab' in sys.modules\n",
    "JAVA_HOME_DEFINED = \"JAVA_HOME\" in os.environ\n",
    "SPARK_HOME_DEFINED = \"SPARK_HOME\" in os.environ\n",
    "PYSPARK_PYTHON_DEFINED = \"PYSPARK_PYTHON\" in os.environ\n",
    "PYSPARK_DRIVER_PYTHON_DEFINED = \"PYSPARK_DRIVER_PYTHON\" in os.environ\n",
    "HAVE_MFLOW = importlib.util.find_spec(\"mFlow\") is not None\n",
    "\n",
    "if(not HAVE_MFLOW):\n",
    "    if IN_COLAB: \n",
    "        print(\"\\nGetting mFlow\")\n",
    "        !git clone https://github.com/mlds-lab/mFlow.git\n",
    "        !pip install ./mFlow\n",
    "    else:\n",
    "        raise SystemExit(\"Please install mFlow from https://github.com/mlds-lab/mFlow.git\")\n",
    "else:\n",
    "    print(\"mFlow found\")\n",
    "    \n",
    "if not JAVA_HOME_DEFINED:\n",
    "    if IN_COLAB: \n",
    "        print(\"\\nGetting Java 8 SDK\")\n",
    "        !sudo apt update\n",
    "        !apt-get install -y openjdk-8-jdk-headless graphviz\n",
    "        os.environ[\"JAVA_HOME\"] = \"/usr/lib/jvm/java-8-openjdk-amd64/\"\n",
    "    else:\n",
    "        raise SystemExit(\"Please install the Java8 SDK and set the JAVA_HOME environment variable\")\n",
    "else:\n",
    "    print(\"JAVA_HOME defined\")\n",
    "\n",
    "\n",
    "if not SPARK_HOME_DEFINED:\n",
    "    if IN_COLAB:\n",
    "        print(\"\\nGetting Apache Spark 3.1.2\")\n",
    "        !wget  https://mirrors.ocf.berkeley.edu/apache/spark/spark-3.1.2/spark-3.1.2-bin-hadoop2.7.tgz\n",
    "        !tar xf spark-3.1.2-bin-hadoop2.7.tgz\n",
    "        os.environ[\"SPARK_HOME\"] = \"/content/spark-3.1.2-bin-hadoop2.7/\"\n",
    "    else:\n",
    "        raise SystemExit(\"Please install spark-3.1.2-bin-hadoop2.7 and set the SPARK_HOME environment variable\")\n",
    "else:\n",
    "    print(\"SPARK_HOME defined\")\n",
    "\n",
    "\n",
    "if not PYSPARK_PYTHON_DEFINED:\n",
    "    if IN_COLAB:\n",
    "        os.environ[\"PYSPARK_PYTHON\"] = \"/usr/bin/python3\"\n",
    "    else:\n",
    "        raise SystemExit(\"Please set the PYSPARK_PYTHON environment variable to your desired Python version\")\n",
    "else:\n",
    "    print(\"PYSPARK_PYTHON defined\")\n",
    "            \n",
    "if not PYSPARK_DRIVER_PYTHON_DEFINED:\n",
    "    if IN_COLAB:\n",
    "        os.environ[\"PYSPARK_DRIVER_PYTHON\"] = \"/usr/bin/python3\"\n",
    "    else:\n",
    "        raise SystemExit(\"Please set the PYSPARK_DRIVER_PYTHON environment variable to your desired Python version\")\n",
    "else:\n",
    "    print(\"PYSPARK_DRIVER_PYTHON defined\")            \n",
    "    "
   ]
  },
  {
   "cell_type": "markdown",
   "metadata": {},
   "source": [
    "## Import library functions"
   ]
  },
  {
   "cell_type": "code",
   "execution_count": 3,
   "metadata": {},
   "outputs": [],
   "source": [
    "#Import mFlow Functions\n",
    "from mFlow.Blocks.data_loader_wesad import wesad_data_loader\n",
    "from mFlow.Blocks.ccwrapper import ccwrapper, cc_to_pandas\n",
    "from mFlow.Workflow.workflow import workflow\n",
    "\n",
    "#Import cc3 functions\n",
    "from cerebralcortex.kernel import Kernel\n",
    "from cerebralcortex.algorithms.ecg.autosense_data_quality import ecg_autosense_data_quality\n",
    "from cerebralcortex.algorithms.ecg.autosense_rr_interval import get_rr_interval\n",
    "from cerebralcortex.algorithms.ecg.hrv_features import get_hrv_features\n"
   ]
  },
  {
   "cell_type": "markdown",
   "metadata": {},
   "source": [
    "## Define and execute the workflow"
   ]
  },
  {
   "cell_type": "code",
   "execution_count": null,
   "metadata": {
    "scrolled": false
   },
   "outputs": [
    {
     "data": {
      "image/png": "[encoded data removed]",
      "text/plain": [
       "<IPython.core.display.Image object>"
      ]
     },
     "metadata": {},
     "output_type": "display_data"
    }
   ],
   "source": [
    "#Define data set properties\n",
    "Fs         = 700\n",
    "sensor     = \"respiban\"\n",
    "\n",
    "#Define Workflow\n",
    "dsd        = wesad_data_loader(data_size=\"small\")\n",
    "dfl        = cc_to_pandas(dsd,name=\"labels_to_pandas\",key=\"labels\",participant_field=\"user\",datetime_field=\"timestamp\",cache_filename=\"wesad_labels_small.pkl\")\n",
    "dsd        = ccwrapper(ecg_autosense_data_quality, dsd, sort_field=\"timestamp\", sensor_name=sensor, Fs=Fs)\n",
    "df_ecg     = cc_to_pandas(dsd,name=\"ecg_to_pandas\",participant_field=\"user\",datetime_field=\"timestamp\",time_trunc=None,cache_filename=\"wesad_ecg_small.pkl\")\n",
    "dsd        = ccwrapper(get_rr_interval,dsd, sort_field=\"timestamp\",Fs=Fs)\n",
    "df_rr      = cc_to_pandas(dsd,name=\"rr_to_pandas\",participant_field=\"user\",datetime_field=\"timestamp\",time_trunc=None,cache_filename=\"wesad_rr_small.pkl\")\n",
    "\n",
    "#Execute workflow\n",
    "flow       = workflow({\"ecg\":df_ecg,\"rr\":df_rr,\"labels\":dfl});\n",
    "output     = flow.run(backend=\"sequential\", monitor=True, from_scratch=True);\n"
   ]
  },
  {
   "cell_type": "markdown",
   "metadata": {},
   "source": [
    "## Display the results"
   ]
  },
  {
   "cell_type": "code",
   "execution_count": null,
   "metadata": {},
   "outputs": [],
   "source": [
    "display(output[\"ecg\"][\"dataframe\"])"
   ]
  },
  {
   "cell_type": "code",
   "execution_count": null,
   "metadata": {},
   "outputs": [],
   "source": [
    "display(output[\"rr\"][\"dataframe\"])"
   ]
  },
  {
   "cell_type": "code",
   "execution_count": null,
   "metadata": {},
   "outputs": [],
   "source": [
    "display(output[\"labels\"][\"dataframe\"])"
   ]
  }
 ],
 "metadata": {
  "kernelspec": {
   "display_name": "Python 3",
   "language": "python",
   "name": "python3"
  },
  "language_info": {
   "codemirror_mode": {
    "name": "ipython",
    "version": 3
   },
   "file_extension": ".py",
   "mimetype": "text/x-python",
   "name": "python",
   "nbconvert_exporter": "python",
   "pygments_lexer": "ipython3",
   "version": "3.6.8"
  }
 },
 "nbformat": 4,
 "nbformat_minor": 2
}
