{
 "cells": [
  {
   "cell_type": "markdown",
   "metadata": {},
   "source": [
    "# Basic Train/Test Experiment on the ExtraSensory data set"
   ]
  },
  {
   "cell_type": "markdown",
   "metadata": {},
   "source": [
    "## Set up the Notebook"
   ]
  },
  {
   "cell_type": "code",
   "execution_count": 1,
   "metadata": {},
   "outputs": [],
   "source": [
    "%load_ext autoreload\n",
    "%autoreload 2\n",
    "%matplotlib inline"
   ]
  },
  {
   "cell_type": "code",
   "execution_count": 2,
   "metadata": {},
   "outputs": [
    {
     "name": "stdout",
     "output_type": "stream",
     "text": [
      "mFlow module found\n"
     ]
    }
   ],
   "source": [
    "import importlib, sys, os\n",
    "sys.path.insert(0, os.path.abspath('..'))\n",
    "if(importlib.util.find_spec(\"mFlow\") is None):\n",
    "    !git clone https://github.com/mlds-lab/mFlow.git\n",
    "    !pip install ./mFlow\n",
    "else:\n",
    "    print(\"mFlow module found\")"
   ]
  },
  {
   "cell_type": "markdown",
   "metadata": {},
   "source": [
    "## Import modules"
   ]
  },
  {
   "cell_type": "code",
   "execution_count": 5,
   "metadata": {},
   "outputs": [],
   "source": [
    "from mFlow.Blocks.data_loader_extrasensory import extrasensory_data_loader\n",
    "from mFlow.Blocks.filter import MisingLabelFilter,  MisingDataColumnFilter, Take\n",
    "from mFlow.Blocks.imputer import Imputer\n",
    "from mFlow.Blocks.normalizer import Normalizer\n",
    "from mFlow.Blocks.experimental_protocol import ExpTrainTest\n",
    "from mFlow.Blocks.results_analysis import ResultsConcat, ResultsCVSummarize, DataYieldReport\n",
    "\n",
    "from sklearn.metrics import accuracy_score, f1_score, precision_score, recall_score \n",
    "from sklearn.linear_model import LogisticRegression\n",
    "\n",
    "import matplotlib.pyplot as plt\n",
    "\n",
    "from mFlow.Workflow.workflow import workflow\n",
    "import mFlow.Workflow.compute_graph\n",
    "\n"
   ]
  },
  {
   "cell_type": "markdown",
   "metadata": {},
   "source": [
    "## Define the workflow\n",
    "\n",
    "This workflow performs a basic train/test experiment on the ExtraSensory data set sleeping prediction task. The model used is logistic regression with a fixed regularization hyper-parameter. \n",
    "\n",
    "The workflow includes a column filter that screens out feature dimensions that are less than 20% observed, and a missing label filter that removes instances without labels. Next, the workflow performs mean imputation followed by feature normalization. Lastly, the train/test experiment is run on the pre-processed data set and results are evaluated using four metrics (accuracy, F1, precision and recall). \n",
    "\n",
    "The workflow computation graph is then created and displayed, and the results are displayed. "
   ]
  },
  {
   "cell_type": "code",
   "execution_count": 6,
   "metadata": {
    "scrolled": false
   },
   "outputs": [
    {
     "data": {
      "image/png": "[encoded data removed]",
      "text/plain": [
       "<IPython.core.display.Image object>"
      ]
     },
     "metadata": {},
     "output_type": "display_data"
    }
   ],
   "source": [
    "estimators = {\"LR\": LogisticRegression(C=1,solver=\"lbfgs\",max_iter=100)}\n",
    "\n",
    "metrics   = [accuracy_score, f1_score, precision_score, recall_score]\n",
    "df_raw    = extrasensory_data_loader(label=\"SLEEPING\")\n",
    "df_cf     = MisingDataColumnFilter(df_raw, thresh=0.2)\n",
    "df_lf     = MisingLabelFilter(df_cf);\n",
    "df_imp    = Imputer(df_lf, method=\"mean\")\n",
    "df_norm   = Normalizer(df_imp);\n",
    "results   = ExpTrainTest(df_norm, estimators, metrics=metrics);\n",
    "results   = ResultsConcat(results)\n",
    "\n",
    "flow      = workflow({\"results\":results})\n",
    "output    = flow.run(backend=\"sequential\", monitor=True);\n"
   ]
  },
  {
   "cell_type": "code",
   "execution_count": 7,
   "metadata": {},
   "outputs": [
    {
     "data": {
      "text/html": [
       "<div>\n",
       "<style scoped>\n",
       "    .dataframe tbody tr th:only-of-type {\n",
       "        vertical-align: middle;\n",
       "    }\n",
       "\n",
       "    .dataframe tbody tr th {\n",
       "        vertical-align: top;\n",
       "    }\n",
       "\n",
       "    .dataframe thead th {\n",
       "        text-align: right;\n",
       "    }\n",
       "</style>\n",
       "<table border=\"1\" class=\"dataframe\">\n",
       "  <thead>\n",
       "    <tr style=\"text-align: right;\">\n",
       "      <th></th>\n",
       "      <th>accuracy_score</th>\n",
       "      <th>f1_score</th>\n",
       "      <th>precision_score</th>\n",
       "      <th>recall_score</th>\n",
       "    </tr>\n",
       "  </thead>\n",
       "  <tbody>\n",
       "    <tr>\n",
       "      <th>LR</th>\n",
       "      <td>0.864228</td>\n",
       "      <td>0.723914</td>\n",
       "      <td>0.831496</td>\n",
       "      <td>0.640981</td>\n",
       "    </tr>\n",
       "  </tbody>\n",
       "</table>\n",
       "</div>"
      ],
      "text/plain": [
       "    accuracy_score  f1_score  precision_score  recall_score\n",
       "LR        0.864228  0.723914         0.831496      0.640981"
      ]
     },
     "metadata": {},
     "output_type": "display_data"
    }
   ],
   "source": [
    "display(output[\"results\"][\"report\"])"
   ]
  },
  {
   "cell_type": "code",
   "execution_count": null,
   "metadata": {},
   "outputs": [],
   "source": []
  }
 ],
 "metadata": {
  "kernelspec": {
   "display_name": "Python 3",
   "language": "python",
   "name": "python3"
  },
  "language_info": {
   "codemirror_mode": {
    "name": "ipython",
    "version": 3
   },
   "file_extension": ".py",
   "mimetype": "text/x-python",
   "name": "python",
   "nbconvert_exporter": "python",
   "pygments_lexer": "ipython3",
   "version": "3.6.8"
  }
 },
 "nbformat": 4,
 "nbformat_minor": 2
}
